{
 "cells": [
  {
   "cell_type": "markdown",
   "metadata": {},
   "source": [
    "# Task 1:\n",
    "### 1.1\n",
    "Que :Write a Python Program to implement your own myreduce() function which works exactly like\n",
    "Python's built-in function reduce()"
   ]
  },
  {
   "cell_type": "markdown",
   "metadata": {},
   "source": [
    "## reduce() in Python\n",
    "The reduce(fun,seq) function is used to apply a particular function passed in its argument to all of the list elements mentioned in the sequence passed along.This function is defined in “functools” module."
   ]
  },
  {
   "cell_type": "code",
   "execution_count": 1,
   "metadata": {},
   "outputs": [],
   "source": [
    "def sum_of_square(ls):\n",
    "    sum= 0\n",
    "    for i in ls:\n",
    "        sum+=i**2\n",
    "    return sum\n",
    "\n",
    "def reduce(func,ls):\n",
    "    sum_of_square = func(ls)\n",
    "    return sum_of_square"
   ]
  },
  {
   "cell_type": "code",
   "execution_count": 2,
   "metadata": {
    "scrolled": true
   },
   "outputs": [
    {
     "data": {
      "text/plain": [
       "55"
      ]
     },
     "execution_count": 2,
     "metadata": {},
     "output_type": "execute_result"
    }
   ],
   "source": [
    "reduce(sum_of_square,[1,2,3,4,5])"
   ]
  },
  {
   "cell_type": "markdown",
   "metadata": {},
   "source": [
    "### 1.2\n",
    "Que: Write a Python program to implement your own myfilter() function which works exactly like\n",
    "Python's built-in function filter()"
   ]
  },
  {
   "cell_type": "markdown",
   "metadata": {},
   "source": [
    "## filter() in python\n",
    "The filter() method filters the given sequence with the help of a function that tests each element in the sequence to be true or not."
   ]
  },
  {
   "cell_type": "code",
   "execution_count": 3,
   "metadata": {},
   "outputs": [
    {
     "name": "stdout",
     "output_type": "stream",
     "text": [
      "The filtered vowels from given sequence are:\n",
      "e\n",
      "e\n"
     ]
    }
   ],
   "source": [
    "# function that filters vowels \n",
    "def vowel_finder(variable): \n",
    "    letters = ['a', 'e', 'i', 'o', 'u'] \n",
    "    if (variable in letters): \n",
    "        return True\n",
    "    else: \n",
    "        return False\n",
    "  \n",
    "  \n",
    "# sequence \n",
    "sequence = ['g', 'e', 'e', 'j', 'k', 's', 'p', 'r'] \n",
    "\n",
    "def my_filter(func,sequence):\n",
    "    ls = []\n",
    "    for i in sequence:\n",
    "        result = vowel_finder(i)\n",
    "        if result==True:\n",
    "            ls.append(i)\n",
    "        else:\n",
    "            pass\n",
    "    return ls\n",
    "# using my_custom_filter function \n",
    "filtered = my_filter(vowel_finder, sequence) \n",
    "  \n",
    "print('The filtered vowels from given sequence are:') \n",
    "for s in filtered: \n",
    "    print(s) "
   ]
  },
  {
   "cell_type": "markdown",
   "metadata": {},
   "source": [
    "## List comprehensions \n",
    "Ques:2 Write List comprehensions to produce the following Lists\n",
    "#### ['A', 'C', 'A', 'D', 'G', 'I', ’L’, ‘ D’]\n",
    "#### ['x', 'xx', 'xxx', 'xxxx', 'y', 'yy', 'yyy', 'yyyy', 'z', 'zz', 'zzz', 'zzzz']\n",
    "#### ['x', 'y', 'z', 'xx', 'yy', 'zz', 'xx', 'yy', 'zz', 'xxxx', 'yyyy', 'zzzz']\n",
    "#### [[2], [3], [4], [3], [4], [5], [4], [5], [6]]\n",
    "#### [[2, 3, 4, 5], [3, 4, 5, 6], [4, 5, 6, 7], [5, 6, 7, 8]]\n",
    "#### [(1, 1), (2, 1), (3, 1), (1, 2), (2, 2), (3, 2), (1, 3), (2, 3), (3, 3)]"
   ]
  },
  {
   "cell_type": "code",
   "execution_count": 4,
   "metadata": {},
   "outputs": [
    {
     "name": "stdout",
     "output_type": "stream",
     "text": [
      "['A', 'C', 'A', 'D', 'G', 'I', 'L', 'D']\n",
      "['x', 'xx', 'xxx', 'xxxx', 'y', 'yy', 'yyy', 'yyyy', 'z', 'zz', 'zzz', 'zzzz']\n",
      "['x', 'y', 'z', 'xx', 'yy', 'zz', 'xxx', 'yyy', 'zzz', 'xxxx', 'yyyy', 'zzzz']\n",
      "[[2], [3], [4], [3], [4], [5], [4], [5], [6]]\n",
      "[[2, 3, 4, 5], [3, 4, 5, 6], [4, 5, 6, 7], [5, 6, 7, 8]]\n",
      "[(1, 1), (2, 1), (3, 1), (1, 2), (2, 2), (3, 2), (1, 3), (2, 3), (3, 3)]\n"
     ]
    }
   ],
   "source": [
    "l1 = [i for i in 'ACADGILD']\n",
    "l2 = [i*j for i in ['x','y','z'] for j in range(1,5)]\n",
    "l3=[j*i for i in range(1,5) for j in ['x','y','z'] ]\n",
    "l6=[(j,i) for i in range(1,4) for j in range(1,4)]\n",
    "l5 = [[i+j for i in range(2,6)] for j in range(4)]\n",
    "l4 = [[i+j] for i in range(2,5) for j in range(3)]\n",
    "print(l1)\n",
    "print(l2)\n",
    "print(l3)\n",
    "print(l4)\n",
    "print(l5)\n",
    "print(l6)"
   ]
  },
  {
   "cell_type": "markdown",
   "metadata": {},
   "source": [
    "Ques:3\n",
    "Implement a function longestWord() that takes a list of words and returns the longest one"
   ]
  },
  {
   "cell_type": "code",
   "execution_count": 5,
   "metadata": {},
   "outputs": [
    {
     "name": "stdout",
     "output_type": "stream",
     "text": [
      "longest word from list is :  deepanshu\n"
     ]
    }
   ],
   "source": [
    "def longest_word(ls):\n",
    "    lenght_of_word = []\n",
    "    for i in ls:\n",
    "        length = len(i)\n",
    "        lenght_of_word.append(length)\n",
    "    maximum_length_index = lenght_of_word.index(max(lenght_of_word))\n",
    "    return ls[maximum_length_index]\n",
    "\n",
    "#ls represents a list\n",
    "ls = ['goutam','dilip','deepanshu','manoj','raju']\n",
    "print(\"longest word from list is : \",longest_word(ls))"
   ]
  },
  {
   "cell_type": "markdown",
   "metadata": {},
   "source": [
    "## Task 2"
   ]
  },
  {
   "cell_type": "markdown",
   "metadata": {},
   "source": [
    "2.1\n",
    "Ques:Write a Python Program(with class concepts) to find the area of the triangle using the below\n",
    "formula.\n",
    "### area = (s* (s-a)*(s-b)**(s-c)) ** *0.5"
   ]
  },
  {
   "cell_type": "code",
   "execution_count": 6,
   "metadata": {},
   "outputs": [
    {
     "name": "stdout",
     "output_type": "stream",
     "text": [
      "51.521233486786784\n"
     ]
    }
   ],
   "source": [
    "class Area:\n",
    "    #sides of triangle\n",
    "    def __init__(self,a,b,c):\n",
    "        self.a = a\n",
    "        self.b = b\n",
    "        self.c = c\n",
    "    def calculate_area(self): \n",
    "        s = (self.a+self.b+self.c)/2\n",
    "        area = (s*(s-self.a)*(s-self.b)*(s-self.c))**0.5\n",
    "        return area\n",
    "\n",
    "triangle = Area(10,11,12)\n",
    "print(triangle.calculate_area())"
   ]
  },
  {
   "cell_type": "markdown",
   "metadata": {},
   "source": [
    "### 2.2\n",
    "Write a function filter_long_words() that takes a list of words and an integer n and returns the list\n",
    "of words that are longer than n.\n"
   ]
  },
  {
   "cell_type": "code",
   "execution_count": 7,
   "metadata": {},
   "outputs": [
    {
     "name": "stdout",
     "output_type": "stream",
     "text": [
      "['goutam', 'dilip', 'deepanshu', 'manoj']\n"
     ]
    }
   ],
   "source": [
    "def filter_long_words(ls,n):\n",
    "    list = []\n",
    "    for i in ls:\n",
    "        length_of_words = len(i)\n",
    "        if length_of_words>n:\n",
    "            list.append(i)\n",
    "        else:\n",
    "            pass\n",
    "    return list\n",
    "print(filter_long_words(['goutam','dilip','deepanshu','manoj','raju'],4))"
   ]
  },
  {
   "cell_type": "markdown",
   "metadata": {},
   "source": [
    "## 2.3\n",
    "Write a Python program using function concept that maps list of words into a list of integers\n",
    "representing the lengths of the corresponding words.\n",
    "#### Hint: If a list [ ab,cde,erty] is passed on to the python function output should come as [2,3,4]\n",
    "#### Here 2,3 and 4 are the lengths of the words in the list."
   ]
  },
  {
   "cell_type": "code",
   "execution_count": 8,
   "metadata": {},
   "outputs": [
    {
     "name": "stdout",
     "output_type": "stream",
     "text": [
      "[6, 5, 9, 5, 4]\n"
     ]
    }
   ],
   "source": [
    "def length_of_words(ls):\n",
    "    list = []\n",
    "    for i in ls:\n",
    "        word_length= len(i)\n",
    "        list.append(word_length)\n",
    "    return list\n",
    "print(length_of_words(['goutam','dilip','deepanshu','manoj','raju']))"
   ]
  },
  {
   "cell_type": "markdown",
   "metadata": {},
   "source": [
    "#### 2.2\n",
    "Write a Python function which takes a character (i.e. a string of length 1) and returns True if it is\n",
    "a vowel, False otherwise."
   ]
  },
  {
   "cell_type": "code",
   "execution_count": 12,
   "metadata": {},
   "outputs": [
    {
     "name": "stdout",
     "output_type": "stream",
     "text": [
      "False\n",
      "False\n",
      "True\n",
      "True\n"
     ]
    }
   ],
   "source": [
    "def vowel(variable):\n",
    "    if len(variable)==0:\n",
    "        return None\n",
    "    letters = ['a', 'e', 'i', 'o', 'u'] \n",
    "    if (variable.lower() in letters): \n",
    "        return True\n",
    "    else: \n",
    "        return False\n",
    "print(vowel('c'))\n",
    "print(vowel('g'))\n",
    "print(vowel('A'))\n",
    "print(vowel('e'))"
   ]
  }
 ],
 "metadata": {
  "kernelspec": {
   "display_name": "Python 3",
   "language": "python",
   "name": "python3"
  },
  "language_info": {
   "codemirror_mode": {
    "name": "ipython",
    "version": 3
   },
   "file_extension": ".py",
   "mimetype": "text/x-python",
   "name": "python",
   "nbconvert_exporter": "python",
   "pygments_lexer": "ipython3",
   "version": "3.7.1"
  }
 },
 "nbformat": 4,
 "nbformat_minor": 2
}
