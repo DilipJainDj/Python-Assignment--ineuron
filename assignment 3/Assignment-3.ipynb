{
 "cells": [
  {
   "cell_type": "markdown",
   "metadata": {},
   "source": [
    "### Task 1:\n",
    "Ques 1:\n",
    "Write a function to compute 5/0 and use try/except to catch the exceptions.\n"
   ]
  },
  {
   "cell_type": "code",
   "execution_count": 1,
   "metadata": {},
   "outputs": [],
   "source": [
    "def divide(num,deno):\n",
    "    try:\n",
    "        return num/deno\n",
    "    except:\n",
    "        print(\"Zero division error\")\n",
    "        \n",
    "print(divide(15,3))\n",
    "divide(5,0)"
   ]
  },
  {
   "cell_type": "markdown",
   "metadata": {},
   "source": [
    "#### Que 2\n",
    "Implement a Python program to generate all sentences where subject is in [\"Americans\", \"Indians\"] and verb is in [\"Play\", \"watch\"] and the object is in [\"Baseball\",\"cricket\"]. Hint: Subject,Verb and Object should be declared in the program as shown below.\n",
    "\n",
    "- subjects=[\"Americans \",\"Indians\"]\n",
    "- verbs=[\"play\",\"watch\"]\n",
    "- objects=[\"Baseball\",\"Cricket\"]\n",
    "\n",
    "**Output should come as below:\n",
    "\n",
    "```Americans play Baseball\n",
    "Americans play Cricket.\n",
    "Americans watch Baseball.\n",
    "Americans watch Cricket.\n",
    "Indians play Baseball.\n",
    "Indians play Cricket.\n",
    "Indians watch Baseball.\n",
    "Indians watch Cricket.```"
   ]
  },
  {
   "cell_type": "code",
   "execution_count": 2,
   "metadata": {},
   "outputs": [
    {
     "name": "stdout",
     "output_type": "stream",
     "text": [
      "Americans play Baseball\n",
      "Americans play Cricket\n",
      "Americans watch Baseball\n",
      "Americans watch Cricket\n",
      "Indians play Baseball\n",
      "Indians play Cricket\n",
      "Indians watch Baseball\n",
      "Indians watch Cricket\n"
     ]
    }
   ],
   "source": [
    "def generateSentance(sub, ver, obj):\n",
    "    if len(sub) and len(ver) and len(obj):\n",
    "        for i in sub:\n",
    "            for j in ver:\n",
    "                for k in obj:\n",
    "                    print(i,j,k)\n",
    "    return None\n",
    "\n",
    "subjects=[\"Americans\",\"Indians\"]\n",
    "verbs=[\"play\",\"watch\"]\n",
    "objects=[\"Baseball\",\"Cricket\"]\n",
    "generateSentance(subjects, verbs, objects)"
   ]
  },
  {
   "cell_type": "markdown",
   "metadata": {},
   "source": [
    "#### Task 2\n",
    "### Que 1\n",
    "Write a function so that the columns of the output matrix are powers of the input vector.\n",
    "\n",
    "The order of the powers is determined by the increasing boolean argument. Specifically, when increasing is False, the i-th output column is the input vector raised element-wise to the power of N - i - 1.\n",
    "\n",
    "HINT: Such a matrix with a geometric progression in each row is named for Alexandre- Theophile Vandermonde."
   ]
  },
  {
   "cell_type": "code",
   "execution_count": 8,
   "metadata": {},
   "outputs": [],
   "source": [
    "import numpy as np\n",
    "def vandermonde(l,n,increasing):\n",
    "    if (increasing):\n",
    "        output=np.array([i**j for i in l for j in range(n)]).reshape(-1,n)\n",
    "        #-1 because reshape can handle it automatically\n",
    "    else:\n",
    "        output=np.array([i**(n-j-1) for i in l for j in range(n)]).reshape(-1,n)\n",
    "    return output"
   ]
  },
  {
   "cell_type": "code",
   "execution_count": 9,
   "metadata": {},
   "outputs": [
    {
     "data": {
      "text/plain": [
       "array([[   1,    1,    1,    1,    1,    1],\n",
       "       [   1,    2,    4,    8,   16,   32],\n",
       "       [   1,    3,    9,   27,   81,  243],\n",
       "       [   1,    4,   16,   64,  256, 1024],\n",
       "       [   1,    5,   25,  125,  625, 3125]])"
      ]
     },
     "execution_count": 9,
     "metadata": {},
     "output_type": "execute_result"
    }
   ],
   "source": [
    "#increasing order \n",
    "k=np.array([1,2,3,4,5])\n",
    "n=6\n",
    "p=vandermonde(k,n,True)\n",
    "p"
   ]
  },
  {
   "cell_type": "code",
   "execution_count": 10,
   "metadata": {},
   "outputs": [
    {
     "data": {
      "text/plain": [
       "array([[   1,    1,    1,    1,    1,    1],\n",
       "       [  32,   16,    8,    4,    2,    1],\n",
       "       [ 243,   81,   27,    9,    3,    1],\n",
       "       [1024,  256,   64,   16,    4,    1],\n",
       "       [3125,  625,  125,   25,    5,    1]])"
      ]
     },
     "execution_count": 10,
     "metadata": {},
     "output_type": "execute_result"
    }
   ],
   "source": [
    "#decreasing order\n",
    "q=np.array([1,2,3,4,5])\n",
    "n=6\n",
    "m=vandermonde(k,n,False)\n",
    "m"
   ]
  },
  {
   "cell_type": "code",
   "execution_count": null,
   "metadata": {},
   "outputs": [],
   "source": []
  }
 ],
 "metadata": {
  "kernelspec": {
   "display_name": "Python 3",
   "language": "python",
   "name": "python3"
  },
  "language_info": {
   "codemirror_mode": {
    "name": "ipython",
    "version": 3
   },
   "file_extension": ".py",
   "mimetype": "text/x-python",
   "name": "python",
   "nbconvert_exporter": "python",
   "pygments_lexer": "ipython3",
   "version": "3.7.1"
  }
 },
 "nbformat": 4,
 "nbformat_minor": 2
}
